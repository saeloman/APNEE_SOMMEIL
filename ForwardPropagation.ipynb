{
  "nbformat": 4,
  "nbformat_minor": 0,
  "metadata": {
    "colab": {
      "provenance": [],
      "gpuType": "T4",
      "authorship_tag": "ABX9TyMFktoAlKz34E31IFqP/9qE",
      "include_colab_link": true
    },
    "kernelspec": {
      "name": "python3",
      "display_name": "Python 3"
    },
    "language_info": {
      "name": "python"
    },
    "accelerator": "GPU"
  },
  "cells": [
    {
      "cell_type": "markdown",
      "metadata": {
        "id": "view-in-github",
        "colab_type": "text"
      },
      "source": [
        "<a href=\"https://colab.research.google.com/github/saeloman/APNEE_SOMMEIL/blob/main/ForwardPropagation.ipynb\" target=\"_parent\"><img src=\"https://colab.research.google.com/assets/colab-badge.svg\" alt=\"Open In Colab\"/></a>"
      ]
    },
    {
      "cell_type": "code",
      "execution_count": null,
      "metadata": {
        "id": "htNUManIc45J"
      },
      "outputs": [],
      "source": [
        "import numpy as np\n",
        "import pandas as pd"
      ]
    },
    {
      "cell_type": "code",
      "source": [
        "np.random.seed(42)\n",
        "num_samples = 20"
      ],
      "metadata": {
        "id": "-52r15ZldbA0"
      },
      "execution_count": null,
      "outputs": []
    },
    {
      "cell_type": "code",
      "source": [
        "age = np.random.randint(18, 90, size= num_samples)\n",
        "age"
      ],
      "metadata": {
        "colab": {
          "base_uri": "https://localhost:8080/"
        },
        "id": "y2DjBMCUdrUM",
        "outputId": "6cd386c1-d32e-4f2b-8172-7ce9c3a7f371"
      },
      "execution_count": null,
      "outputs": [
        {
          "output_type": "execute_result",
          "data": {
            "text/plain": [
              "array([69, 32, 89, 78, 38, 41, 20, 39, 70, 19, 47, 55, 19, 81, 77, 38, 50,\n",
              "       75, 39, 66])"
            ]
          },
          "metadata": {},
          "execution_count": 15
        }
      ]
    },
    {
      "cell_type": "code",
      "source": [
        "income = np.random.randint (20000, 100000, size = num_samples)\n",
        "loan_amount = np.random.randint(5000, 100000, size = num_samples)\n",
        "num_accounts = np.random.randint(1, 10, size = num_samples)"
      ],
      "metadata": {
        "id": "2MzcuJDIeUm-"
      },
      "execution_count": null,
      "outputs": []
    },
    {
      "cell_type": "markdown",
      "source": [
        "#creation des caracteristque d'entreee"
      ],
      "metadata": {
        "id": "z_v_4Atqp92e"
      }
    },
    {
      "cell_type": "markdown",
      "source": [],
      "metadata": {
        "id": "sIemLNwAooNN"
      }
    },
    {
      "cell_type": "code",
      "source": [
        "X = np.column_stack((age, income, loan_amount, num_accounts))\n",
        "X"
      ],
      "metadata": {
        "colab": {
          "base_uri": "https://localhost:8080/"
        },
        "id": "tX7zRhfnqF2h",
        "outputId": "5278d52d-872f-4d75-da40-98409aac05a1"
      },
      "execution_count": null,
      "outputs": [
        {
          "output_type": "execute_result",
          "data": {
            "text/plain": [
              "array([[   69, 45658, 73148,     2],\n",
              "       [   32, 38431, 28483,     4],\n",
              "       [   89, 22747, 53555,     8],\n",
              "       [   78, 79150, 22159,     7],\n",
              "       [   38, 85725, 85077,     9],\n",
              "       [   41, 55773, 40920,     8],\n",
              "       [   20, 87435, 97067,     5],\n",
              "       [   39, 76886, 72121,     2],\n",
              "       [   70, 86803, 74479,     5],\n",
              "       [   19, 51551, 94475,     8],\n",
              "       [   47, 31394, 24457,     9],\n",
              "       [   55, 89092, 71557,     9],\n",
              "       [   19, 23890, 82189,     1],\n",
              "       [   81, 61606, 83953,     9],\n",
              "       [   77, 30627, 57995,     7],\n",
              "       [   38, 28792, 45757,     9],\n",
              "       [   50, 93969, 14692,     8],\n",
              "       [   75, 63001, 50758,     1],\n",
              "       [   39, 96552, 77409,     8],\n",
              "       [   66, 43897, 76211,     8]])"
            ]
          },
          "metadata": {},
          "execution_count": 22
        }
      ]
    },
    {
      "cell_type": "code",
      "source": [],
      "metadata": {
        "id": "ZH48eShGqpvP"
      },
      "execution_count": null,
      "outputs": []
    },
    {
      "cell_type": "markdown",
      "source": [
        "les Mathematiques\n",
        "\n",
        "Couche Cachénp\n",
        " 1. Calcule de l entre de la couche cachénp.\n",
        " Z1 = W1.X+b1"
      ],
      "metadata": {
        "id": "hCLENoGFtRAR"
      }
    },
    {
      "cell_type": "code",
      "source": [
        "#fonction d'activation ReLu\n",
        "def relu(X):\n",
        "  return np.maximum(0,X)\n"
      ],
      "metadata": {
        "id": "AJ-ZUAp_tT2m"
      },
      "execution_count": null,
      "outputs": []
    },
    {
      "cell_type": "markdown",
      "source": [],
      "metadata": {
        "id": "r6mvlWt_t8_k"
      }
    },
    {
      "cell_type": "code",
      "source": [
        "#Fonction d'actiavtion Sigmoid\n",
        "def sigmoid(x):\n",
        "  return 1/(1+np.exp(-X))"
      ],
      "metadata": {
        "id": "pEfJXMKHt6nF"
      },
      "execution_count": null,
      "outputs": []
    },
    {
      "cell_type": "code",
      "source": [
        "# Nombre de neurone\n",
        "#hidden_size = 5\n",
        "#input_size = X. shape [0]\n",
        "#np.random.seed (42)\n",
        "#W1= np.random.rand(hidden_size, input_size)\n",
        "#W1\n",
        "\n",
        "\n",
        "\n",
        "\n",
        "# Nombre de neurone\n",
        "hidden_size = 5\n",
        "input_size = X. shape [0]\n",
        "output_size = 1\n",
        "np.random.seed (42)\n",
        "W1 = np.random.rand(hidden_size, input_size)\n",
        "b1 = np.random.rand(hidden_size, 1)\n",
        "w2 = np.random.rand(output_size, hidden_size)\n",
        "b2 = np.random.rand(output_size, 1)"
      ],
      "metadata": {
        "id": "rfpH1z2SwlsY"
      },
      "execution_count": null,
      "outputs": []
    },
    {
      "cell_type": "code",
      "source": [],
      "metadata": {
        "id": "ACiSHrn55V-h"
      },
      "execution_count": null,
      "outputs": []
    },
    {
      "cell_type": "code",
      "source": [
        "b1= np.random.rand(hidden_size, 1)\n",
        "b1"
      ],
      "metadata": {
        "colab": {
          "base_uri": "https://localhost:8080/"
        },
        "id": "mqtm4vlU4hTb",
        "outputId": "3b31c908-81ea-47c8-fe63-41258f8d1736"
      },
      "execution_count": null,
      "outputs": [
        {
          "output_type": "execute_result",
          "data": {
            "text/plain": [
              "array([[0.16122129],\n",
              "       [0.92969765],\n",
              "       [0.80812038],\n",
              "       [0.63340376],\n",
              "       [0.87146059]])"
            ]
          },
          "metadata": {},
          "execution_count": 57
        }
      ]
    },
    {
      "cell_type": "code",
      "source": [
        "output_size = 1\n",
        "W2= np.random.rand(output_size, input_size)\n",
        "W2"
      ],
      "metadata": {
        "colab": {
          "base_uri": "https://localhost:8080/"
        },
        "id": "Ppm6ZVIe5Zs-",
        "outputId": "bb83e6de-8b6c-42cc-ef6e-829418666124"
      },
      "execution_count": null,
      "outputs": [
        {
          "output_type": "execute_result",
          "data": {
            "text/plain": [
              "array([[0.80367208, 0.18657006, 0.892559  , 0.53934224, 0.80744016,\n",
              "        0.8960913 , 0.31800347, 0.11005192, 0.22793516, 0.42710779,\n",
              "        0.81801477, 0.86073058, 0.00695213, 0.5107473 , 0.417411  ,\n",
              "        0.22210781, 0.11986537, 0.33761517, 0.9429097 , 0.32320293]])"
            ]
          },
          "metadata": {},
          "execution_count": 58
        }
      ]
    },
    {
      "cell_type": "code",
      "source": [
        "b2= np.random.rand(output_size, 1)\n",
        "b2"
      ],
      "metadata": {
        "colab": {
          "base_uri": "https://localhost:8080/"
        },
        "id": "6omL4kfK5x8Z",
        "outputId": "910e2852-548d-4e6c-a82a-4d4bfa9173bb"
      },
      "execution_count": null,
      "outputs": [
        {
          "output_type": "execute_result",
          "data": {
            "text/plain": [
              "array([[0.51879062]])"
            ]
          },
          "metadata": {},
          "execution_count": 59
        }
      ]
    },
    {
      "cell_type": "code",
      "source": [
        "#Forward pass\n",
        "z1 = np.dot (W1, X) + b1\n",
        "a1 = relu(z1)\n",
        "a1"
      ],
      "metadata": {
        "colab": {
          "base_uri": "https://localhost:8080/"
        },
        "id": "4-B0q2Yi6A0F",
        "outputId": "142d52a6-8188-405e-f7da-95015ce09c3d"
      },
      "execution_count": null,
      "outputs": [
        {
          "output_type": "execute_result",
          "data": {
            "text/plain": [
              "array([[4.70002734e+02, 5.47117029e+05, 5.68199010e+05, 5.14302164e+01],\n",
              "       [5.17504678e+02, 5.29932449e+05, 5.49408300e+05, 6.45319295e+01],\n",
              "       [5.06320674e+02, 5.41952222e+05, 5.68016191e+05, 6.51594860e+01],\n",
              "       [4.89976156e+02, 5.12752789e+05, 5.32920683e+05, 6.67014416e+01],\n",
              "       [4.99673163e+02, 5.76012136e+05, 6.37765115e+05, 5.55448389e+01]])"
            ]
          },
          "metadata": {},
          "execution_count": 60
        }
      ]
    },
    {
      "cell_type": "code",
      "source": [
        "#z2 = np.dot(W2, a1.T) + b2\n",
        "z2 = np.dot (W2, a1) + b2\n",
        "a2 = sigmoid(z2)\n",
        "a2"
      ],
      "metadata": {
        "colab": {
          "base_uri": "https://localhost:8080/"
        },
        "id": "rgWjn5YS7MlU",
        "outputId": "42f69a64-d8fc-442c-af2a-7021ac53a84d"
      },
      "execution_count": null,
      "outputs": [
        {
          "output_type": "execute_result",
          "data": {
            "text/plain": [
              "array([[0.81246225, 0.4662743 , 0.13948675, 0.97797977]])"
            ]
          },
          "metadata": {},
          "execution_count": 66
        }
      ]
    },
    {
      "cell_type": "code",
      "source": [
        "import numpy as np\n",
        "\n",
        "# Définition de la fonction sigmoid\n",
        "def sigmoid(z):\n",
        "    return 1 / (1 + np.exp(-z))\n",
        "\n",
        "# Initialisation des matrices et vecteurs avec des dimensions compatibles\n",
        "W2 = np.random.randn(1, 5)  # Poids de la couche (1 neurone de sortie, 5 entrées)\n",
        "a1 = np.random.randn(5, 4)  # Activation de la couche précédente (5 neurones, 4 exemples)\n",
        "b2 = np.random.randn(1, 4)  # Biais (1 neurone de sortie, 4 exemples)\n",
        "\n",
        "# Calcul du pré-activation z2\n",
        "z2 = np.dot(W2, a1) + b2\n",
        "\n",
        "# Application de la fonction d'activation\n",
        "a2 = sigmoid(z2)\n",
        "\n",
        "# Affichage du résultat final\n",
        "print(\"Résultat après activation (a2) :\")\n",
        "print(a2)\n",
        "\n"
      ],
      "metadata": {
        "colab": {
          "base_uri": "https://localhost:8080/"
        },
        "id": "sxpC9I0g7Odf",
        "outputId": "6627ba40-3c09-4360-d108-b3f66ff44047"
      },
      "execution_count": null,
      "outputs": [
        {
          "output_type": "stream",
          "name": "stdout",
          "text": [
            "Résultat après activation (a2) :\n",
            "[[0.81246225 0.4662743  0.13948675 0.97797977]]\n"
          ]
        }
      ]
    }
  ]
}